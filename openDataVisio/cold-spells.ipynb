{
 "cells": [
  {
   "cell_type": "markdown",
   "id": "613eaf50-e4f0-4328-b0be-c246fb216577",
   "metadata": {},
   "source": [
    "# Cold Spells\n",
    "---"
   ]
  },
  {
   "cell_type": "code",
   "execution_count": 1,
   "id": "b16e8ffc-8f06-4de3-9c5e-94310f5b6f52",
   "metadata": {},
   "outputs": [],
   "source": [
    "import cfgrib\n",
    "import numpy as np\n",
    "import xarray as xr\n",
    "import pandas as pd\n",
    "import earthkit.data as ekd\n",
    "\n",
    "import matplotlib.pyplot as plt\n",
    "import cartopy.crs as ccrs\n",
    "\n",
    "from IPython.display import Image"
   ]
  },
  {
   "cell_type": "code",
   "execution_count": null,
   "id": "ee2c8aa6-90dc-4a97-9281-384b99af62cf",
   "metadata": {},
   "outputs": [],
   "source": []
  }
 ],
 "metadata": {
  "kernelspec": {
   "display_name": "Python 3 (ipykernel)",
   "language": "python",
   "name": "python3"
  },
  "language_info": {
   "codemirror_mode": {
    "name": "ipython",
    "version": 3
   },
   "file_extension": ".py",
   "mimetype": "text/x-python",
   "name": "python",
   "nbconvert_exporter": "python",
   "pygments_lexer": "ipython3",
   "version": "3.10.12"
  }
 },
 "nbformat": 4,
 "nbformat_minor": 5
}
