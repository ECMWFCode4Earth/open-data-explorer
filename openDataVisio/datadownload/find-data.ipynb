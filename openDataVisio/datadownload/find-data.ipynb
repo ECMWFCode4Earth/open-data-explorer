{
 "cells": [
  {
   "attachments": {},
   "cell_type": "markdown",
   "id": "fe4ccc7c-249c-4bda-bea5-8191a7243ddb",
   "metadata": {
    "tags": []
   },
   "source": [
    "# ECMWF Open Data\n",
    "---\n",
    "\n",
    "Currently, open data are available from the following locations: [ECMWF Data Store](https://data.ecmwf.int/forecasts/), [Amazon's AWS](https://aws.amazon.com/marketplace/pp/prodview-3ibagms7ky4ec?sr=0-670&ref_=beagle&applicationId=AWSMPContessa#usage), [Google Cloud](https://console.cloud.google.com/marketplace/product/bigquery-public-data/open-data-ecmwf), [Microsoft's Azure](https://planetarycomputer.microsoft.com/dataset/ecmwf-forecast), and [Open-meteo](https://open-meteo.com/).\n",
    "\n",
    "## ECMWF Data Store\n",
    "It offers datasets from current date and up to four days before today.\n",
    "\n",
    ":::{figure} ../images/ecmwf-data-store.png\n",
    ":label: fig:ecmwfds\n",
    ":::"
   ]
  },
  {
   "cell_type": "markdown",
   "id": "7c3439ad-41d1-4994-b283-b16ab8dcd5fc",
   "metadata": {},
   "source": [
    "## Amazon's AWS\n",
    "It hosts data from 2023 to 2025.\n",
    "\n",
    ":::{figure} ../images/aws.png\n",
    ":label: fig:aws\n",
    ":::\n",
    ":::{figure} ../images/AWS_ecmwf_real-time_forecasts.png\n",
    ":label: fig:aws_resources\n",
    ":::"
   ]
  },
  {
   "cell_type": "markdown",
   "id": "b4fb4c62-9dbd-49f3-b226-7cbcaa610198",
   "metadata": {},
   "source": [
    "## Google Cloud\n",
    ":::{figure} ../images/Google.png\n",
    ":label: fig:google\n",
    ":::\n",
    ":::{note}\n",
    "To access open data within Google Cloud, you will need to authenticate using your Google account or [`gsutil`](https://cloud.google.com/storage/docs/gsutil) tool to access Cloud Storage from the command line.\n",
    ":::"
   ]
  },
  {
   "cell_type": "markdown",
   "id": "860a2e16-2e5d-40ec-b95a-f04e304d615a",
   "metadata": {},
   "source": [
    "## Microsoft's Azure\n",
    "\n",
    "It makes the ECMWF products available for the previous 30 days.\n",
    "\n",
    ":::{figure} ../images/Microsoft.png\n",
    ":label: fig:microsoft\n",
    ":::\n",
    "\n",
    ":::{important}\n",
    "To access data, users are required to utilise tokens created by the Data Authentication API. Public access is not permitted on every data sets. For more information, see the [Planetary Computer](https://planetarycomputer.microsoft.com/docs/concepts/sas/) documentation.\n",
    ":::"
   ]
  },
  {
   "cell_type": "markdown",
   "id": "ba9fd929-5c18-4bf6-9568-23e33ec10eb7",
   "metadata": {},
   "source": [
    "## Open-Meteo\n",
    "With an open-source weather API one can access forecast data for up to 16 days or historical data from 2017 onwards.\n",
    "\n",
    ":::{figure} ../images/open-meteo.png\n",
    ":label: fig:openmeteo\n",
    ":::\n",
    "\n",
    "% ## [Oikolab](https://docs.oikolab.com/#global-datasets)\n",
    "% Only IFS open data available.\n",
    "% ```{warning}\n",
    "% To retrieve open data, you will need to log into your account and then you will find your API key on the profile page.\n",
    "% ```\n",
    "% :::{figure} ../images/oikolab.png\n",
    "% :label: fig:oikolab\n",
    "% :::\n",
    "\n",
    ":::{seealso}\n",
    "For a full list of other locations, where you can find open data available, visit the [ECMWF open datasets](https://confluence.ecmwf.int/display/DAC/ECMWF+open+data%3A+real-time+forecasts+from+IFS+and+AIFS) website.\n",
    ":::"
   ]
  },
  {
   "cell_type": "markdown",
   "id": "3a534295-b912-43b5-ac42-858f931f0154",
   "metadata": {},
   "source": [
    ":::{card}\n",
    "1. Copyright Statement: Copyright \"© 2025 European Centre for Medium-Range Weather Forecasts (ECMWF)\".\n",
    "\n",
    "2. Source: www.ecmwf.int\n",
    "\n",
    "3. Licence Statement: This data is published under a Creative Commons Attribution 4.0 International (CC BY 4.0). https://creativecommons.org/licenses/by/4.0/\n",
    "\n",
    "4. Disclaimer: ECMWF does not accept any liability whatsoever for any error or omission in the data, their availability, or for any loss or damage arising from their use.\n",
    ":::"
   ]
  },
  {
   "cell_type": "code",
   "execution_count": null,
   "id": "bef6718d-0f70-47c7-96c6-7f6dfe647b2a",
   "metadata": {},
   "outputs": [],
   "source": []
  }
 ],
 "metadata": {
  "kernelspec": {
   "display_name": "Python 3 (ipykernel)",
   "language": "python",
   "name": "python3"
  },
  "language_info": {
   "codemirror_mode": {
    "name": "ipython",
    "version": 3
   },
   "file_extension": ".py",
   "mimetype": "text/x-python",
   "name": "python",
   "nbconvert_exporter": "python",
   "pygments_lexer": "ipython3",
   "version": "3.12.3"
  },
  "widgets": {
   "application/vnd.jupyter.widget-state+json": {
    "state": {},
    "version_major": 2,
    "version_minor": 0
   }
  }
 },
 "nbformat": 4,
 "nbformat_minor": 5
}
