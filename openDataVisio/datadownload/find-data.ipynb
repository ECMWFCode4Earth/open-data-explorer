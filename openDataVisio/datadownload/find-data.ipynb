{
 "cells": [
  {
   "attachments": {},
   "cell_type": "markdown",
   "id": "fe4ccc7c-249c-4bda-bea5-8191a7243ddb",
   "metadata": {
    "tags": []
   },
   "source": [
    "# ECMWF Open Data \n",
    "---\n",
    "\n",
    "Currently, open data are available from the following locations:\n",
    "- [ECMWF Data Store](https://data.ecmwf.int/forecasts)\n",
    "\n",
    ":::{figure} ../images/ecmwf-data-store.png\n",
    ":label: fig:ecmwfds\n",
    ":::\n",
    "\n",
    "- [Amazon's AWS](https://aws.amazon.com/marketplace/pp/prodview-3ibagms7ky4ec?sr=0-670&ref_=beagle&applicationId=AWSMPContessa#usage)\n",
    ":::{figure} ../images/aws.png\n",
    ":label: fig:aws\n",
    ":::"
   ]
  },
  {
   "cell_type": "markdown",
   "id": "b4fb4c62-9dbd-49f3-b226-7cbcaa610198",
   "metadata": {},
   "source": [
    "% - [Google Cloud](https://console.cloud.google.com/marketplace/product/bigquery-public-data/open-data-ecmwf)\n",
    "% :::{figure} ../images/Google.png\n",
    "% :label: fig:google\n",
    "% :::\n",
    "% :::{note}\n",
    "% To access open data within Google Cloud, you will need to authenticate using your Google account or [`gsutil`](https://cloud.google.com/% storage/docs/gsutil) tool to access Cloud Storage from the command line.\n",
    "% :::\n",
    "\n",
    "- [Microsoft's Azure](https://planetarycomputer.microsoft.com/dataset/ecmwf-forecast)\n",
    "\n",
    ":::{figure} ../images/Microsoft.png\n",
    ":label: fig:microsoft\n",
    ":::"
   ]
  },
  {
   "cell_type": "code",
   "execution_count": 18,
   "id": "8c1ffcf0-645c-4434-b290-454c8f1ca373",
   "metadata": {},
   "outputs": [
    {
     "name": "stdout",
     "output_type": "stream",
     "text": [
      "https://ai4edataeuwest.blob.core.windows.net/ecmwf/20250531/12z/ifs/0p25/oper/20250531120000-0h-oper-fc.grib2\n",
      "20250531120000-0h-oper-fc.grib2\n",
      "Cannot create file '20250531120000-0h-oper-fc.grib2.5b7b6.idx' Public access is not permitted on this storage account.\n"
     ]
    }
   ],
   "source": [
    "import pystac_client\n",
    "import planetary_computer\n",
    "import requests\n",
    "import xarray as xr\n",
    "\n",
    "catalog = pystac_client.Client.open(\n",
    "    \"https://planetarycomputer.microsoft.com/api/stac/v1\",\n",
    "    modifier=planetary_computer.sign_inplace,\n",
    ")\n",
    "search = catalog.search(\n",
    "    collections=[\"ecmwf-forecast\"],\n",
    "    query={\n",
    "        \"ecmwf:stream\": {\"eq\": \"oper\"},\n",
    "        \"ecmwf:type\": {\"eq\": \"fc\"},\n",
    "        \"ecmwf:step\": {\"eq\": \"0h\"},\n",
    "    },\n",
    ")\n",
    "items = search.item_collection()\n",
    "len(items)\n",
    "\n",
    "item = max(items, key=lambda item: item.datetime)\n",
    "url = item.assets[\"data\"].href\n",
    "url = url.rpartition('?')[0]\n",
    "print(url)\n",
    "filename = str(url.rpartition('oper/')[-1])\n",
    "print(filename)\n",
    "\n",
    "r = requests.get(url, stream=True)\n",
    "# with open(filename, mode=\"wb\") as file:\n",
    "#    for chunk in r.iter_content(chunk_size=10 * 1024):\n",
    "#        file.write(chunk)\n",
    "# ds = xr.open_dataset(filename, engine=\"cfgrib\")\n",
    "print(\"Cannot create file '20250531120000-0h-oper-fc.grib2.5b7b6.idx' Public access is not permitted on this storage account.\")"
   ]
  },
  {
   "cell_type": "markdown",
   "id": "1d1d55dd-c59a-48e8-89f4-6c8f477c5acb",
   "metadata": {},
   "source": [
    "- [open-meteo](https://open-meteo.com/en/docs/ecmwf-api)\n",
    "\n",
    ":::{figure} ../images/open-meteo.png\n",
    ":label: fig:openmeteo\n",
    ":::\n",
    "\n",
    "```{warning}\n",
    "One can choose non-commercial, commercial or self-hosted licence. For non-commercial use, less than 10.000 daily API calls are available. For commercial use, different API plans and subscriptions are offered.\n",
    "```\n",
    "\n",
    "% - [Oikolab](https://docs.oikolab.com/#global-datasets) (only IFS open data)\n",
    "% ```{warning}\n",
    "% To retrieve open data, you will need to log into your account and then you will find your API key on the profile page.\n",
    "% ```\n",
    "% :::{figure} ../images/oikolab.png\n",
    "% :label: fig:oikolab\n",
    "% :::"
   ]
  },
  {
   "cell_type": "code",
   "execution_count": null,
   "id": "dd3b672e-cf0d-4c73-9e83-e07b39de4e9c",
   "metadata": {},
   "outputs": [],
   "source": [
    "!pip3 install openmeteo-requests\n",
    "!pip3 install requests-cache retry-requests numpy pandas"
   ]
  },
  {
   "cell_type": "code",
   "execution_count": 2,
   "id": "9123a5ee-bc88-4681-a292-58ae118a3cf1",
   "metadata": {},
   "outputs": [
    {
     "name": "stdout",
     "output_type": "stream",
     "text": [
      "Coordinates 50.0°N 10.0°E\n",
      "Elevation 291.0 m asl\n",
      "Timezone b'Europe/Berlin'b'GMT+2'\n",
      "Timezone difference to GMT+0 7200 s\n",
      "                         date  temperature_2m  temperature_2m_min  \\\n",
      "0   2025-02-28 22:00:00+00:00             NaN                 NaN   \n",
      "1   2025-03-01 01:00:00+00:00             NaN                 NaN   \n",
      "2   2025-03-01 04:00:00+00:00             NaN                 NaN   \n",
      "3   2025-03-01 07:00:00+00:00             NaN                 NaN   \n",
      "4   2025-03-01 10:00:00+00:00             NaN                 NaN   \n",
      "..                        ...             ...                 ...   \n",
      "787 2025-06-07 07:00:00+00:00       16.291500             14.8915   \n",
      "788 2025-06-07 10:00:00+00:00       18.541500                 NaN   \n",
      "789 2025-06-07 13:00:00+00:00       20.191500                 NaN   \n",
      "790 2025-06-07 16:00:00+00:00       19.741499                 NaN   \n",
      "791 2025-06-07 19:00:00+00:00       18.391500                 NaN   \n",
      "\n",
      "     temperature_2m_max  \n",
      "0                   NaN  \n",
      "1                   NaN  \n",
      "2                   NaN  \n",
      "3                   NaN  \n",
      "4                   NaN  \n",
      "..                  ...  \n",
      "787           16.241499  \n",
      "788                 NaN  \n",
      "789                 NaN  \n",
      "790                 NaN  \n",
      "791                 NaN  \n",
      "\n",
      "[792 rows x 4 columns]\n"
     ]
    }
   ],
   "source": [
    "import openmeteo_requests\n",
    "import pandas as pd\n",
    "import requests_cache\n",
    "from retry_requests import retry\n",
    "\n",
    "# Setup the Open-Meteo API client with cache and retry on error\n",
    "cache_session = requests_cache.CachedSession('.cache', expire_after = 3600)\n",
    "retry_session = retry(cache_session, retries = 5, backoff_factor = 0.2)\n",
    "openmeteo = openmeteo_requests.Client(session = retry_session)\n",
    "\n",
    "# Make sure all required weather variables are listed here\n",
    "# The order of variables in hourly or daily is important to assign them correctly below\n",
    "url = \"https://api.open-meteo.com/v1/forecast\"\n",
    "params = {\n",
    "\t\"latitude\": 50,\n",
    "\t\"longitude\": 10,\n",
    "\t\"hourly\": [\"temperature_2m\", \"temperature_2m_min\", \"temperature_2m_max\"],\n",
    "\t\"models\": \"ecmwf_ifs025\",\n",
    "\t\"timezone\": \"Europe/Berlin\",\n",
    "\t\"past_days\": 92,\n",
    "\t\"temporal_resolution\": \"hourly_3\"\n",
    "}\n",
    "responses = openmeteo.weather_api(url, params=params)\n",
    "\n",
    "# Process first location. Add a for-loop for multiple locations or weather models\n",
    "response = responses[0]\n",
    "print(f\"Coordinates {response.Latitude()}°N {response.Longitude()}°E\")\n",
    "print(f\"Elevation {response.Elevation()} m asl\")\n",
    "print(f\"Timezone {response.Timezone()}{response.TimezoneAbbreviation()}\")\n",
    "print(f\"Timezone difference to GMT+0 {response.UtcOffsetSeconds()} s\")\n",
    "\n",
    "# Process hourly data. The order of variables needs to be the same as requested.\n",
    "hourly = response.Hourly()\n",
    "hourly_temperature_2m = hourly.Variables(0).ValuesAsNumpy()\n",
    "hourly_temperature_2m_min = hourly.Variables(1).ValuesAsNumpy()\n",
    "hourly_temperature_2m_max = hourly.Variables(2).ValuesAsNumpy()\n",
    "\n",
    "hourly_data = {\"date\": pd.date_range(\n",
    "\tstart = pd.to_datetime(hourly.Time(), unit = \"s\", utc = True),\n",
    "\tend = pd.to_datetime(hourly.TimeEnd(), unit = \"s\", utc = True),\n",
    "\tfreq = pd.Timedelta(seconds = hourly.Interval()),\n",
    "\tinclusive = \"left\"\n",
    ")}\n",
    "\n",
    "hourly_data[\"temperature_2m\"] = hourly_temperature_2m\n",
    "hourly_data[\"temperature_2m_min\"] = hourly_temperature_2m_min\n",
    "hourly_data[\"temperature_2m_max\"] = hourly_temperature_2m_max\n",
    "\n",
    "hourly_dataframe = pd.DataFrame(data = hourly_data)\n",
    "print(hourly_dataframe)"
   ]
  },
  {
   "cell_type": "markdown",
   "id": "6df693c4-67c5-4172-b88a-8677b13b2a7a",
   "metadata": {},
   "source": [
    ":::{seealso}\n",
    "For a full list of other locations, where you can find open data available, visit the [ECMWF open datasets](https://confluence.ecmwf.int/display/DAC/ECMWF+open+data%3A+real-time+forecasts+from+IFS+and+AIFS) website.\n",
    ":::"
   ]
  },
  {
   "cell_type": "markdown",
   "id": "3a534295-b912-43b5-ac42-858f931f0154",
   "metadata": {},
   "source": [
    ":::{card}\n",
    "1. Copyright Statement: Copyright \"© 2025 European Centre for Medium-Range Weather Forecasts (ECMWF)\".\n",
    "\n",
    "2. Source: www.ecmwf.int\n",
    "\n",
    "3. Licence Statement: This data is published under a Creative Commons Attribution 4.0 International (CC BY 4.0). https://creativecommons.org/licenses/by/4.0/\n",
    "\n",
    "4. Disclaimer: ECMWF does not accept any liability whatsoever for any error or omission in the data, their availability, or for any loss or damage arising from their use.\n",
    ":::"
   ]
  },
  {
   "cell_type": "code",
   "execution_count": null,
   "id": "bef6718d-0f70-47c7-96c6-7f6dfe647b2a",
   "metadata": {},
   "outputs": [],
   "source": []
  }
 ],
 "metadata": {
  "kernelspec": {
   "display_name": "Python 3 (ipykernel)",
   "language": "python",
   "name": "python3"
  },
  "language_info": {
   "codemirror_mode": {
    "name": "ipython",
    "version": 3
   },
   "file_extension": ".py",
   "mimetype": "text/x-python",
   "name": "python",
   "nbconvert_exporter": "python",
   "pygments_lexer": "ipython3",
   "version": "3.10.17"
  },
  "widgets": {
   "application/vnd.jupyter.widget-state+json": {
    "state": {},
    "version_major": 2,
    "version_minor": 0
   }
  }
 },
 "nbformat": 4,
 "nbformat_minor": 5
}
