{
 "cells": [
  {
   "attachments": {},
   "cell_type": "markdown",
   "id": "fe4ccc7c-249c-4bda-bea5-8191a7243ddb",
   "metadata": {
    "tags": []
   },
   "source": [
    "# ECMWF Open Data \n",
    "---\n",
    "\n",
    "Currently, open data are available from the following locations:\n",
    "- [ECMWF Data Store](https://data.ecmwf.int/forecasts)\n",
    "\n",
    ":::{figure} ../images/ecmwf-data-store.png\n",
    ":label: fig:ecmwfds\n",
    ":::\n",
    "\n",
    "% - [Amazon's AWS](https://aws.amazon.com/marketplace/pp/prodview-3ibagms7ky4ec?sr=0-670&ref_=beagle&applicationId=AWSMPContessa#usage)\n",
    "% :::{figure} ../images/aws.png\n",
    "% :label: fig:aws\n",
    "% :::\n",
    "% - [Google Cloud](https://console.cloud.google.com/marketplace/product/bigquery-public-data/open-data-ecmwf)\n",
    "% :::{figure} ../images/Google.png\n",
    "% :label: fig:google\n",
    "% :::\n",
    "% :::{note}\n",
    "% To access open data within Google Cloud, you will need to authenticate using your Google account or [`gsutil`](https://cloud.google.com/% storage/docs/gsutil) tool to access Cloud Storage from the command line.\n",
    "% :::\n",
    "\n",
    "- [Microsoft's Azure](https://planetarycomputer.microsoft.com/dataset/ecmwf-forecast)\n",
    "\n",
    ":::{figure} ../images/Microsoft.png\n",
    ":label: fig:microsoft\n",
    ":::"
   ]
  },
  {
   "cell_type": "code",
   "execution_count": null,
   "id": "8c1ffcf0-645c-4434-b290-454c8f1ca373",
   "metadata": {},
   "outputs": [],
   "source": [
    "import pystac_client\n",
    "import planetary_computer\n",
    "import urllib.request\n",
    "import xarray as xr\n",
    "\n",
    "catalog = pystac_client.Client.open(\n",
    "    \"https://planetarycomputer.microsoft.com/api/stac/v1\",\n",
    "    modifier=planetary_computer.sign_inplace,\n",
    ")\n",
    "search = catalog.search(\n",
    "    collections=[\"ecmwf-forecast\"],\n",
    "    query={\n",
    "        \"ecmwf:stream\": {\"eq\": \"wave\"},\n",
    "        \"ecmwf:type\": {\"eq\": \"fc\"},\n",
    "        \"ecmwf:step\": {\"eq\": \"0h\"},\n",
    "    },\n",
    ")\n",
    "items = search.get_all_items()\n",
    "len(items)\n",
    "\n",
    "item = max(items, key=lambda item: item.datetime)\n",
    "url = item.assets[\"data\"].href\n",
    "\n",
    "filename, _ = urllib.request.urlretrieve(url)\n",
    "ds = xr.open_dataset(filename, engine=\"cfgrib\")"
   ]
  },
  {
   "cell_type": "markdown",
   "id": "1d1d55dd-c59a-48e8-89f4-6c8f477c5acb",
   "metadata": {},
   "source": [
    "- [open-meteo](https://open-meteo.com/en/docs/ecmwf-api)\n",
    "\n",
    ":::{figure} ../images/open-meteo.png\n",
    ":label: fig:openmeteo\n",
    ":::\n",
    "\n",
    "```{warning}\n",
    "One can choose non-commercial, commercial or self-hosted licence. For non-commercial use, less than 10.000 daily API calls are available. For commercial use, different API plans and subscriptions are offered.\n",
    "```\n",
    "\n",
    "% - [Oikolab](https://docs.oikolab.com/#global-datasets) (only IFS open data)\n",
    "% ```{warning}\n",
    "% To retrieve open data, you will need to log into your account and then you will find your API key on the profile page.\n",
    "% ```\n",
    "% :::{figure} ../images/oikolab.png\n",
    "% :label: fig:oikolab\n",
    "% :::"
   ]
  },
  {
   "cell_type": "code",
   "execution_count": null,
   "id": "9123a5ee-bc88-4681-a292-58ae118a3cf1",
   "metadata": {},
   "outputs": [],
   "source": [
    "# pip install openmeteo-requests\n",
    "# pip install requests-cache retry-requests numpy pandas\n",
    "\n",
    "import openmeteo_requests\n",
    "import pandas as pd\n",
    "import requests_cache\n",
    "from retry_requests import retry\n",
    "\n",
    "# Setup the Open-Meteo API client with cache and retry on error\n",
    "cache_session = requests_cache.CachedSession('.cache', expire_after = 3600)\n",
    "retry_session = retry(cache_session, retries = 5, backoff_factor = 0.2)\n",
    "openmeteo = openmeteo_requests.Client(session = retry_session)\n",
    "\n",
    "# Make sure all required weather variables are listed here\n",
    "# The order of variables in hourly or daily is important to assign them correctly below\n",
    "url = \"https://api.open-meteo.com/v1/forecast\"\n",
    "params = {\n",
    "\t\"latitude\": -50.15,\n",
    "\t\"longitude\": 120.3,\n",
    "\t\"hourly\": \"rain\",\n",
    "\t\"models\": \"ecmwf_ifs025\",\n",
    "\t\"timezone\": \"auto\",\n",
    "\t\"start_date\": \"2025-03-01\",\n",
    "\t\"end_date\": \"2025-03-15\"\n",
    "}\n",
    "responses = openmeteo.weather_api(url, params=params)\n",
    "\n",
    "# Process first location. Add a for-loop for multiple locations or weather models\n",
    "response = responses[0]\n",
    "print(f\"Coordinates {response.Latitude()}°N {response.Longitude()}°E\")\n",
    "print(f\"Elevation {response.Elevation()} m asl\")\n",
    "print(f\"Timezone {response.Timezone()}{response.TimezoneAbbreviation()}\")\n",
    "print(f\"Timezone difference to GMT+0 {response.UtcOffsetSeconds()} s\")\n",
    "\n",
    "# Process hourly data. The order of variables needs to be the same as requested.\n",
    "hourly = response.Hourly()\n",
    "hourly_rain = hourly.Variables(0).ValuesAsNumpy()\n",
    "\n",
    "hourly_data = {\"date\": pd.date_range(\n",
    "\tstart = pd.to_datetime(hourly.Time(), unit = \"s\", utc = True),\n",
    "\tend = pd.to_datetime(hourly.TimeEnd(), unit = \"s\", utc = True),\n",
    "\tfreq = pd.Timedelta(seconds = hourly.Interval()),\n",
    "\tinclusive = \"left\"\n",
    ")}\n",
    "\n",
    "hourly_data[\"rain\"] = hourly_rain\n",
    "\n",
    "hourly_dataframe = pd.DataFrame(data = hourly_data)\n",
    "print(hourly_dataframe)\n"
   ]
  },
  {
   "cell_type": "markdown",
   "id": "6df693c4-67c5-4172-b88a-8677b13b2a7a",
   "metadata": {},
   "source": [
    ":::{seealso}\n",
    "For a full list of other locations, where you can find open data available, visit the [ECMWF open datasets](https://confluence.ecmwf.int/display/DAC/ECMWF+open+data%3A+real-time+forecasts+from+IFS+and+AIFS) website.\n",
    ":::"
   ]
  },
  {
   "cell_type": "markdown",
   "id": "3a534295-b912-43b5-ac42-858f931f0154",
   "metadata": {},
   "source": [
    ":::{card}\n",
    "1. Copyright Statement: Copyright \"© 2025 European Centre for Medium-Range Weather Forecasts (ECMWF)\".\n",
    "\n",
    "2. Source: www.ecmwf.int\n",
    "\n",
    "3. Licence Statement: This data is published under a Creative Commons Attribution 4.0 International (CC BY 4.0). https://creativecommons.org/licenses/by/4.0/\n",
    "\n",
    "4. Disclaimer: ECMWF does not accept any liability whatsoever for any error or omission in the data, their availability, or for any loss or damage arising from their use.\n",
    ":::"
   ]
  },
  {
   "cell_type": "code",
   "execution_count": null,
   "id": "bef6718d-0f70-47c7-96c6-7f6dfe647b2a",
   "metadata": {},
   "outputs": [],
   "source": []
  }
 ],
 "metadata": {
  "kernelspec": {
   "display_name": "Python 3 (ipykernel)",
   "language": "python",
   "name": "python3"
  },
  "language_info": {
   "codemirror_mode": {
    "name": "ipython",
    "version": 3
   },
   "file_extension": ".py",
   "mimetype": "text/x-python",
   "name": "python",
   "nbconvert_exporter": "python",
   "pygments_lexer": "ipython3",
   "version": "3.10.12"
  },
  "widgets": {
   "application/vnd.jupyter.widget-state+json": {
    "state": {},
    "version_major": 2,
    "version_minor": 0
   }
  }
 },
 "nbformat": 4,
 "nbformat_minor": 5
}
