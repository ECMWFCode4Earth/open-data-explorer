{
 "cells": [
  {
   "attachments": {},
   "cell_type": "markdown",
   "id": "fe4ccc7c-249c-4bda-bea5-8191a7243ddb",
   "metadata": {
    "tags": []
   },
   "source": [
    "# Amazon S3 Buckets\n",
    "---\n",
    "ECMWF open data can be retrieved from the Amazon S3 buckets using the [`earthkit`](https://earthkit-data.readthedocs.io/en/latest/guide/sources.html#s3) or `ecmwf-opendata` Python libraries."
   ]
  },
  {
   "cell_type": "markdown",
   "id": "200c8850-b9a8-4e12-96d3-03b661c12c3a",
   "metadata": {},
   "source": [
    "Below, two examples for downloading data from the **Amazon's AWS** location."
   ]
  },
  {
   "cell_type": "code",
   "execution_count": null,
   "id": "9ce493c6-94a1-486b-8f4f-25c803b32312",
   "metadata": {},
   "outputs": [],
   "source": [
    "# !pip3 install earthkit ecmwf-opendata"
   ]
  },
  {
   "cell_type": "code",
   "execution_count": null,
   "id": "a8f3f759-d184-4600-b860-1d7737cf21bd",
   "metadata": {},
   "outputs": [],
   "source": [
    "from ecmwf.opendata import Client\n",
    "\n",
    "client = Client(source=\"aws\")\n",
    "request = {\n",
    "    \"time\": 0,\n",
    "    \"type\": \"fc\",\n",
    "    \"step\": 24,\n",
    "    \"param\": \"2t\",\n",
    "}\n",
    "client.retrieve(request, \"aws_2t_data.grib2\")\n",
    "da_2t = ekd.from_source(\"file\", \"aws_2t_data.grib2\")\n",
    "da_2t.ls()"
   ]
  },
  {
   "cell_type": "code",
   "execution_count": null,
   "id": "64a3784e-7e3f-49f8-b2a5-a1abed5ae833",
   "metadata": {},
   "outputs": [],
   "source": [
    "import earthkit.data as ekd\n",
    "\n",
    "data = ekd.from_source(\"s3\", {\n",
    "    \"endpoint\": \"s3.amazonaws.com\",\n",
    "    \"region\": \"eu-central-1\",\n",
    "    \"bucket\": \"ecmwf-forecasts\",\n",
    "    \"objects\": \"20230118/00z/0p4-beta/oper/20230118000000-0h-oper-fc.grib2\"\n",
    "}, anon=True)\n",
    "ds = data.to_xarray()\n",
    "ds"
   ]
  },
  {
   "cell_type": "markdown",
   "id": "54bcaadd-0846-4644-b17a-87ae82226571",
   "metadata": {},
   "source": [
    "::::{important}\n",
    "When you need to download historical data, bear in mind the file-naming convention.\n",
    ":::{dropdown} File-naming convention\n",
    "An example (for HH=`00z` and stream=`oper`) shows how a filename has changed since year 2023\n",
    "* 20230118/00z/0p4-beta/oper/20230118000000-0h-oper-fc.grib2, <br> in Februar 2024 one can choose between the resolution `0p4-beta` and `0p25`\n",
    "* 20240201/00z/$\\color{red}{\\text{0p4-beta}}$/oper/20240201000000-0h-oper-fc.grib2\n",
    "* 20240201/00z/$\\color{red}{\\text{0p25}}$/oper/20240201000000-0h-oper-fc.grib2, <br> in March 2024 one can choose between `aifs` and `ifs` (only `ifs` is available in `0p4-beta` or `0p25`)\n",
    "* 20240301/00z/$\\color{red}{\\text{aifs}}$/0p25/oper/20240301000000-0h-oper-fc.grib2\n",
    "* 20240301/00z/$\\color{red}{\\text{ifs}}$/0p4-beta/oper/20240301000000-0h-oper-fc.grib2, <br> in February 2025 one can choose between `aifs-single` and `aifs` (`ifs` does not contain any changes)\n",
    "* 20250210/00z/$\\color{red}{\\text{aifs-single}}$/0p25/$\\color{red}{\\text{experimental}}$/oper/20250210000000-0h-oper-fc.grib2\n",
    "* 20250210/00z/$\\color{red}{\\text{aifs}}$/0p25/oper/20250210000000-0h-oper-fc.grib2, <br> in March 2025 the file-naming convention is the same as we know it today\n",
    "* 20250301/00z/aifs-single/0p25/oper/20250301000000-0h-oper-fc.grib2\n",
    "* 20250301/00z/ifs/0p25/oper/20250301000000-0h-oper-fc.grib2\n",
    ":::\n",
    "::::"
   ]
  },
  {
   "cell_type": "code",
   "execution_count": null,
   "id": "f05536cf-9f63-4a32-bc16-031dee4476a9",
   "metadata": {},
   "outputs": [],
   "source": []
  }
 ],
 "metadata": {
  "kernelspec": {
   "display_name": "Python 3 (ipykernel)",
   "language": "python",
   "name": "python3"
  },
  "language_info": {
   "codemirror_mode": {
    "name": "ipython",
    "version": 3
   },
   "file_extension": ".py",
   "mimetype": "text/x-python",
   "name": "python",
   "nbconvert_exporter": "python",
   "pygments_lexer": "ipython3",
   "version": "3.12.3"
  },
  "widgets": {
   "application/vnd.jupyter.widget-state+json": {
    "state": {},
    "version_major": 2,
    "version_minor": 0
   }
  }
 },
 "nbformat": 4,
 "nbformat_minor": 5
}
