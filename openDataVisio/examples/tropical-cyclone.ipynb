{
 "cells": [
  {
   "cell_type": "markdown",
   "id": "613eaf50-e4f0-4328-b0be-c246fb216577",
   "metadata": {},
   "source": [
    "# Tropical Cyclone\n",
    "---"
   ]
  },
  {
   "cell_type": "markdown",
   "id": "65ba1a3b-da04-4ea9-bf49-b870f5f1fe7d",
   "metadata": {},
   "source": [
    "An the end of February 2025, the tropical cyclone Honde affected the southern coast of Madagascar. It caused very heavy rainfall and strong winds. <br>\n",
    "\n",
    "This example shows analysis of the selected parameter:\n",
    "- [`tc`](https://codes.ecmwf.int/grib/param-db/129) tropical cyclone trajectory of the **IFS** datasets on 28 February at 00 UTC in Madagascar (22.95° S, 44.1° E).\n",
    "\n",
    "## 1. Set Up Your Environment and Find ECMWF Open Data\n",
    "Open data will be downloaded from a publicly available [Amazon S3 Bucket](../datadownload/find-data.ipynb). First, the following Python libraries need to be installed in the current Jupyter kernel:\n",
    "- `ecmwf-opendata` to download data and\n",
    "- `earthkit` to analyse and plot the data.\n",
    "\n",
    ":::{seealso}\n",
    "More detailed information about how to install Python packages is available on the [Retrieve Data](../datadownload/data-download.ipynb) website.\n",
    ":::\n",
    "If the packages are not installed yet, uncomment the code below and run it."
   ]
  },
  {
   "cell_type": "code",
   "execution_count": null,
   "id": "ee2c8aa6-90dc-4a97-9281-384b99af62cf",
   "metadata": {},
   "outputs": [],
   "source": [
    "# !pip3 install earthkit ecmwf-opendata"
   ]
  },
  {
   "cell_type": "code",
   "execution_count": 11,
   "id": "7d7c7e77-b6c0-41f6-93c9-2602f8f070ae",
   "metadata": {},
   "outputs": [],
   "source": [
    "from ecmwf.opendata import Client\n",
    "import earthkit.data as ekd\n",
    "import earthkit.plots as ekp\n",
    "import earthkit"
   ]
  },
  {
   "cell_type": "markdown",
   "id": "33338d85-6557-4dec-96f6-77cf15b0616c",
   "metadata": {},
   "source": [
    "(content:references:listParam_tc)=\n",
    "### List of parameters to retrieve from open datasets\n",
    "The selected values below can be modified."
   ]
  },
  {
   "cell_type": "code",
   "execution_count": 12,
   "id": "ed18b7c3-fdb3-4f2b-935f-4d52b68826b4",
   "metadata": {},
   "outputs": [],
   "source": [
    "PARAM_SFC = [\"tc\"]\n",
    "LEVELTYPE = \"sfc\"\n",
    "\n",
    "DATES = [20250228, 20250301]\n",
    "TIME = 0\n",
    "STEPS = 240\n",
    "STREAM = \"oper\"\n",
    "TYPE = \"tf\"\n",
    "MODEL = \"ifs\""
   ]
  },
  {
   "cell_type": "markdown",
   "id": "4543204e-bef5-4db6-b3c2-34085dee7168",
   "metadata": {},
   "source": [
    "### Get the data using the ECMWF Open Data API"
   ]
  },
  {
   "cell_type": "code",
   "execution_count": 3,
   "id": "3db08c40-5104-4d6c-8345-bc15aada47b1",
   "metadata": {},
   "outputs": [],
   "source": [
    "def get_open_data(date, time, step, stream, _type, model, param, leveltype, levelist=[]):\n",
    "    client = Client(source=\"aws\")\n",
    "    list_of_files = []\n",
    "    # Get the data for all dates\n",
    "    for _date in DATES:\n",
    "        filename = f\"{model}_{''.join(param)}_{''.join(map(str, levelist))}_{_date}.grib2\" if levelist else f\"{model}_{''.join(param)}_{leveltype}_{_date}.grib2\"\n",
    "        data = client.retrieve(\n",
    "            date=_date,\n",
    "            time=time,\n",
    "            step=step,\n",
    "            stream=stream,\n",
    "            type=_type,\n",
    "            levtype=leveltype,\n",
    "            levelist=levelist,\n",
    "            param=param,\n",
    "            model=model,\n",
    "            target=filename\n",
    "            )\n",
    "        list_of_files.append(filename)\n",
    "    return data, list_of_files"
   ]
  },
  {
   "cell_type": "markdown",
   "id": "f95fb197-de60-4359-b91a-6559e48d30a9",
   "metadata": {},
   "source": [
    "## 2. Tropical cyclone tracks"
   ]
  },
  {
   "cell_type": "markdown",
   "id": "9297b20e-e307-4ea0-9717-929568b82fd6",
   "metadata": {},
   "source": [
    "When using the `ls()` method, metadata from the header section of the BUFR we downloaded will be displayed."
   ]
  },
  {
   "cell_type": "code",
   "execution_count": 4,
   "id": "59c7a373-55f9-4a47-928f-509e8168c244",
   "metadata": {},
   "outputs": [
    {
     "name": "stderr",
     "output_type": "stream",
     "text": [
      "                                                                                "
     ]
    },
    {
     "data": {
      "text/html": [
       "<div>\n",
       "<style scoped>\n",
       "    .dataframe tbody tr th:only-of-type {\n",
       "        vertical-align: middle;\n",
       "    }\n",
       "\n",
       "    .dataframe tbody tr th {\n",
       "        vertical-align: top;\n",
       "    }\n",
       "\n",
       "    .dataframe thead th {\n",
       "        text-align: right;\n",
       "    }\n",
       "</style>\n",
       "<table border=\"1\" class=\"dataframe\">\n",
       "  <thead>\n",
       "    <tr style=\"text-align: right;\">\n",
       "      <th></th>\n",
       "      <th>edition</th>\n",
       "      <th>type</th>\n",
       "      <th>subtype</th>\n",
       "      <th>c</th>\n",
       "      <th>mv</th>\n",
       "      <th>lv</th>\n",
       "      <th>subsets</th>\n",
       "      <th>compr</th>\n",
       "      <th>typicalDate</th>\n",
       "      <th>typicalTime</th>\n",
       "      <th>ident</th>\n",
       "      <th>lat</th>\n",
       "      <th>lon</th>\n",
       "    </tr>\n",
       "  </thead>\n",
       "  <tbody>\n",
       "    <tr>\n",
       "      <th>0</th>\n",
       "      <td>4</td>\n",
       "      <td>7</td>\n",
       "      <td>32</td>\n",
       "      <td>98</td>\n",
       "      <td>35</td>\n",
       "      <td>0</td>\n",
       "      <td>1</td>\n",
       "      <td>0</td>\n",
       "      <td>20250228</td>\n",
       "      <td>000000</td>\n",
       "      <td>None</td>\n",
       "      <td>None</td>\n",
       "      <td>None</td>\n",
       "    </tr>\n",
       "    <tr>\n",
       "      <th>1</th>\n",
       "      <td>4</td>\n",
       "      <td>7</td>\n",
       "      <td>32</td>\n",
       "      <td>98</td>\n",
       "      <td>35</td>\n",
       "      <td>0</td>\n",
       "      <td>1</td>\n",
       "      <td>0</td>\n",
       "      <td>20250228</td>\n",
       "      <td>000000</td>\n",
       "      <td>None</td>\n",
       "      <td>None</td>\n",
       "      <td>None</td>\n",
       "    </tr>\n",
       "    <tr>\n",
       "      <th>2</th>\n",
       "      <td>4</td>\n",
       "      <td>7</td>\n",
       "      <td>32</td>\n",
       "      <td>98</td>\n",
       "      <td>35</td>\n",
       "      <td>0</td>\n",
       "      <td>1</td>\n",
       "      <td>0</td>\n",
       "      <td>20250228</td>\n",
       "      <td>000000</td>\n",
       "      <td>None</td>\n",
       "      <td>None</td>\n",
       "      <td>None</td>\n",
       "    </tr>\n",
       "    <tr>\n",
       "      <th>3</th>\n",
       "      <td>4</td>\n",
       "      <td>7</td>\n",
       "      <td>32</td>\n",
       "      <td>98</td>\n",
       "      <td>35</td>\n",
       "      <td>0</td>\n",
       "      <td>1</td>\n",
       "      <td>0</td>\n",
       "      <td>20250228</td>\n",
       "      <td>000000</td>\n",
       "      <td>None</td>\n",
       "      <td>None</td>\n",
       "      <td>None</td>\n",
       "    </tr>\n",
       "  </tbody>\n",
       "</table>\n",
       "</div>"
      ],
      "text/plain": [
       "   edition  type  subtype   c  mv  lv  subsets  compr typicalDate typicalTime  \\\n",
       "0        4     7       32  98  35   0        1      0    20250228      000000   \n",
       "1        4     7       32  98  35   0        1      0    20250228      000000   \n",
       "2        4     7       32  98  35   0        1      0    20250228      000000   \n",
       "3        4     7       32  98  35   0        1      0    20250228      000000   \n",
       "\n",
       "  ident   lat   lon  \n",
       "0  None  None  None  \n",
       "1  None  None  None  \n",
       "2  None  None  None  \n",
       "3  None  None  None  "
      ]
     },
     "execution_count": 4,
     "metadata": {},
     "output_type": "execute_result"
    }
   ],
   "source": [
    "data, list_of_files = get_open_data(date=DATES,\n",
    "                                    time=TIME,\n",
    "                                    step=STEPS,\n",
    "                                    stream=STREAM,\n",
    "                                    _type=TYPE,\n",
    "                                    model=MODEL,\n",
    "                                    param=PARAM_SFC,\n",
    "                                    leveltype=LEVELTYPE,\n",
    "                                    levelist=[])\n",
    "\n",
    "# Select AIFS model data from 28 February 2025\n",
    "ds = ekd.from_source(\"file\", list_of_files[0])\n",
    "ds.ls()"
   ]
  },
  {
   "cell_type": "markdown",
   "id": "61864c66-22dd-4ea5-a56f-7653ee068acb",
   "metadata": {},
   "source": [
    ":::{tip}\n",
    "To learn more about how to extract BUFR data into a Pandas dataframe, visit [BUFR: using SYNOP data](https://earthkit-data.readthedocs.io/en/latest/examples/bufr_synop.html) website.\n",
    ":::"
   ]
  },
  {
   "cell_type": "code",
   "execution_count": 5,
   "id": "b73ecac5-3d37-4ec2-8319-e88795826373",
   "metadata": {},
   "outputs": [
    {
     "data": {
      "text/html": [
       "<div>\n",
       "<style scoped>\n",
       "    .dataframe tbody tr th:only-of-type {\n",
       "        vertical-align: middle;\n",
       "    }\n",
       "\n",
       "    .dataframe tbody tr th {\n",
       "        vertical-align: top;\n",
       "    }\n",
       "\n",
       "    .dataframe thead th {\n",
       "        text-align: right;\n",
       "    }\n",
       "</style>\n",
       "<table border=\"1\" class=\"dataframe\">\n",
       "  <thead>\n",
       "    <tr style=\"text-align: right;\">\n",
       "      <th></th>\n",
       "      <th>latitude</th>\n",
       "      <th>longitude</th>\n",
       "    </tr>\n",
       "  </thead>\n",
       "  <tbody>\n",
       "    <tr>\n",
       "      <th>0</th>\n",
       "      <td>-19.7</td>\n",
       "      <td>55.3</td>\n",
       "    </tr>\n",
       "    <tr>\n",
       "      <th>1</th>\n",
       "      <td>-19.9</td>\n",
       "      <td>55.4</td>\n",
       "    </tr>\n",
       "    <tr>\n",
       "      <th>2</th>\n",
       "      <td>-19.7</td>\n",
       "      <td>55.6</td>\n",
       "    </tr>\n",
       "    <tr>\n",
       "      <th>3</th>\n",
       "      <td>-21.6</td>\n",
       "      <td>55.3</td>\n",
       "    </tr>\n",
       "    <tr>\n",
       "      <th>4</th>\n",
       "      <td>-21.6</td>\n",
       "      <td>55.6</td>\n",
       "    </tr>\n",
       "    <tr>\n",
       "      <th>...</th>\n",
       "      <td>...</td>\n",
       "      <td>...</td>\n",
       "    </tr>\n",
       "    <tr>\n",
       "      <th>215</th>\n",
       "      <td>-23.6</td>\n",
       "      <td>177.6</td>\n",
       "    </tr>\n",
       "    <tr>\n",
       "      <th>216</th>\n",
       "      <td>-20.4</td>\n",
       "      <td>173.7</td>\n",
       "    </tr>\n",
       "    <tr>\n",
       "      <th>217</th>\n",
       "      <td>-23.8</td>\n",
       "      <td>176.7</td>\n",
       "    </tr>\n",
       "    <tr>\n",
       "      <th>218</th>\n",
       "      <td>-20.4</td>\n",
       "      <td>174.3</td>\n",
       "    </tr>\n",
       "    <tr>\n",
       "      <th>219</th>\n",
       "      <td>-23.6</td>\n",
       "      <td>177.6</td>\n",
       "    </tr>\n",
       "  </tbody>\n",
       "</table>\n",
       "<p>220 rows × 2 columns</p>\n",
       "</div>"
      ],
      "text/plain": [
       "     latitude  longitude\n",
       "0       -19.7       55.3\n",
       "1       -19.9       55.4\n",
       "2       -19.7       55.6\n",
       "3       -21.6       55.3\n",
       "4       -21.6       55.6\n",
       "..        ...        ...\n",
       "215     -23.6      177.6\n",
       "216     -20.4      173.7\n",
       "217     -23.8      176.7\n",
       "218     -20.4      174.3\n",
       "219     -23.6      177.6\n",
       "\n",
       "[220 rows x 2 columns]"
      ]
     },
     "execution_count": 5,
     "metadata": {},
     "output_type": "execute_result"
    }
   ],
   "source": [
    "df = ds.to_pandas(columns=[\"latitude\", \"longitude\"])\n",
    "df"
   ]
  },
  {
   "cell_type": "markdown",
   "id": "3386fcc3-ab73-4ea4-bcda-cfab4f4c3100",
   "metadata": {},
   "source": [
    "## 3. Data visualisation\n",
    "\n",
    "The plot below shows the tropical cyclone track for TC Honde on 28 February 2025."
   ]
  },
  {
   "cell_type": "code",
   "execution_count": 13,
   "id": "8a8cba85-97ae-43bb-8ec5-e94674019fb1",
   "metadata": {},
   "outputs": [
    {
     "data": {
      "image/png": "[encoded data removed]",
      "text/plain": [
       "<Figure size 800x700 with 1 Axes>"
      ]
     },
     "metadata": {},
     "output_type": "display_data"
    }
   ],
   "source": [
    "chart = ekp.Map(domain=\"Madagascar\")\n",
    "\n",
    "#chart.contour(df,\n",
    "              ##levels={\"step\": 4, \"reference\": 1000},\n",
    "              #linecolors=\"black\",\n",
    "              ##linewidths=[0.5, 1, 0.5, 0.5],\n",
    "              ##labels = True,\n",
    "              #legend_style = None,\n",
    "              ##transform_first=True)\n",
    "\n",
    "chart.land(color=\"#ffe2ab\")\n",
    "chart.coastlines(resolution=\"low\")\n",
    "chart.gridlines()\n",
    "\n",
    "chart.title(\n",
    "    \"IFS: Tropical cyclone Honde over Madagascar\\n\"\n",
    "    \"{base_time:%Y-%m-%d %H} UTC (+{lead_time}h)\\n\",\n",
    "    fontsize=14, horizontalalignment=\"center\",\n",
    ")\n",
    "chart.save(f\"./plots/{''.join(PARAM_SFC)}_{MODEL}_{DATES[0]}{TIME}-{STEPS}h.png\")\n",
    "chart.show()"
   ]
  },
  {
   "cell_type": "markdown",
   "id": "4ce6ed2d-9fbe-4313-8732-02fd3c33dc89",
   "metadata": {},
   "source": [
    "_To be continued_"
   ]
  }
 ],
 "metadata": {
  "kernelspec": {
   "display_name": "Python 3 (ipykernel)",
   "language": "python",
   "name": "python3"
  },
  "language_info": {
   "codemirror_mode": {
    "name": "ipython",
    "version": 3
   },
   "file_extension": ".py",
   "mimetype": "text/x-python",
   "name": "python",
   "nbconvert_exporter": "python",
   "pygments_lexer": "ipython3",
   "version": "3.12.3"
  }
 },
 "nbformat": 4,
 "nbformat_minor": 5
}
