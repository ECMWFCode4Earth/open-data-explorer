{
 "cells": [
  {
   "cell_type": "markdown",
   "id": "613eaf50-e4f0-4328-b0be-c246fb216577",
   "metadata": {},
   "source": [
    "# High Winds - IFS\n",
    "---\n",
    "_To be continued_\n",
    "\n",
    "This example shows analysis of the selected parameters:\n",
    "- [`10u`](https://codes.ecmwf.int/grib/param-db/129) ,\n",
    "- [`10v`](https://codes.ecmwf.int/grib/param-db/130) ,\n",
    "- [`10fg`](https://codes.ecmwf.int/grib/param-db/151) ,\n",
    "- [`100u`](https://codes.ecmwf.int/grib/param-db/151) , and\n",
    "- [`100v`](https://codes.ecmwf.int/grib/param-db/228228)  of the **IFS** datasets on 7 January 2025 in Sweden (58.58° N, 11.07° E)."
   ]
  },
  {
   "cell_type": "code",
   "execution_count": null,
   "id": "b16e8ffc-8f06-4de3-9c5e-94310f5b6f52",
   "metadata": {},
   "outputs": [],
   "source": [
    "import cfgrib\n",
    "import numpy as np\n",
    "import xarray as xr\n",
    "import pandas as pd\n",
    "import earthkit.data as ekd\n",
    "\n",
    "import matplotlib.pyplot as plt\n",
    "import cartopy.crs as ccrs\n",
    "\n",
    "from IPython.display import Image"
   ]
  }
 ],
 "metadata": {
  "kernelspec": {
   "display_name": "Python 3 (ipykernel)",
   "language": "python",
   "name": "python3"
  },
  "language_info": {
   "codemirror_mode": {
    "name": "ipython",
    "version": 3
   },
   "file_extension": ".py",
   "mimetype": "text/x-python",
   "name": "python",
   "nbconvert_exporter": "python",
   "pygments_lexer": "ipython3",
   "version": "3.12.3"
  }
 },
 "nbformat": 4,
 "nbformat_minor": 5
}
