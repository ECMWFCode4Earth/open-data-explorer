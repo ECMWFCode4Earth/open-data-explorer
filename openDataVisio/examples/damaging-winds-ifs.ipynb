{
 "cells": [
  {
   "cell_type": "markdown",
   "id": "613eaf50-e4f0-4328-b0be-c246fb216577",
   "metadata": {},
   "source": [
    "# High Winds - IFS\n",
    "---\n",
    "\n",
    "Here we will focus on:\n",
    "- [`10u`](https://codes.ecmwf.int/grib/param-db/165) 10 metre U wind component,\n",
    "- [`10v`](https://codes.ecmwf.int/grib/param-db/166) 10 metre V wind component,\n",
    "- [`sf`](https://codes.ecmwf.int/grib/param-db/144) snowfall,\n",
    "- [`10fg3`](https://codes.ecmwf.int/grib/param-db/228028) maximum 10 metre wind gust in the last 3 hours,\n",
    "- [`100u`](https://codes.ecmwf.int/grib/param-db/228246) 100 metre U wind component, and\n",
    "- [`100v`](https://codes.ecmwf.int/grib/param-db/228247) 100 metre V wind component of the **IFS** datasets on 7 January 2025 in Sweden (58.58° N, 11.07° E).\n",
    "- \n",
    ":::{tip}\n",
    "If you have not visited the [High Winds - AIFS](./damaging-winds-aifs.ipynb) website yet, we highly recommend you to do so before proceeding further with the analysis.\n",
    ":::\n",
    "\n",
    "## 1. Set Up Your Environment and Find ECMWF Open Data\n",
    "If the packages are not installed yet, uncomment the code below and run it."
   ]
  },
  {
   "cell_type": "code",
   "execution_count": null,
   "id": "5da79b47-af68-4dd3-b133-598030341721",
   "metadata": {},
   "outputs": [],
   "source": [
    "# !pip3 install earthkit ecmwf-opendata"
   ]
  },
  {
   "cell_type": "code",
   "execution_count": null,
   "id": "b16e8ffc-8f06-4de3-9c5e-94310f5b6f52",
   "metadata": {},
   "outputs": [],
   "source": [
    "from ecmwf.opendata import Client\n",
    "import earthkit.data as ekd\n",
    "import earthkit.plots as ekp"
   ]
  },
  {
   "cell_type": "markdown",
   "id": "e3887cd7-5d15-4832-877e-9dc4818dd6f5",
   "metadata": {},
   "source": [
    "(content:references:listParam_dwi)=\n",
    "### List of parameters to retrieve from open datasets\n",
    "The selected values below can be modified."
   ]
  },
  {
   "cell_type": "markdown",
   "id": "bed35c43-a21f-43c7-a8ee-155b70d0a54a",
   "metadata": {},
   "source": [
    "_To be continued..._"
   ]
  },
  {
   "cell_type": "code",
   "execution_count": null,
   "id": "e413187e-5544-4916-966b-53112b4d7649",
   "metadata": {},
   "outputs": [],
   "source": []
  }
 ],
 "metadata": {
  "kernelspec": {
   "display_name": "Python 3 (ipykernel)",
   "language": "python",
   "name": "python3"
  },
  "language_info": {
   "codemirror_mode": {
    "name": "ipython",
    "version": 3
   },
   "file_extension": ".py",
   "mimetype": "text/x-python",
   "name": "python",
   "nbconvert_exporter": "python",
   "pygments_lexer": "ipython3",
   "version": "3.12.3"
  }
 },
 "nbformat": 4,
 "nbformat_minor": 5
}
